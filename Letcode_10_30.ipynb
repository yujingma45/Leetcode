{
 "cells": [
  {
   "cell_type": "code",
   "execution_count": 338,
   "metadata": {},
   "outputs": [],
   "source": [
    "# TWO SUM\n",
    "# interesting way is dictionary comprehension\n",
    "dict = dict((key, value) for (key, value) in iterable)\n",
    "dict = dict(key:value for key in iterable)"
   ]
  },
  {
   "cell_type": "code",
   "execution_count": null,
   "metadata": {},
   "outputs": [],
   "source": [
    "# two way hash:\n",
    "# remeber the number sum combinations \n",
    "def twoSum( nums, target):\n",
    "        \"\"\"\n",
    "        :type nums: List[int]\n",
    "        :type target: int\n",
    "        :rtype: List[int]\n",
    "        \"\"\"\n",
    "        num_dict={}\n",
    "        #t_minus_n = [target - i  for i in nums]\n",
    "        if nums.count(target/2)==2:\n",
    "            result = [i for i,j in enumerate(nums) if j==target/2]\n",
    "        else:\n",
    "            comb = list(zip(nums,[target - i  for i in nums]))\n",
    "            #(1,2)!=(2,1) so we can use to see if both 2,1 in the nums list\n",
    "            # like the parentheses question\n",
    "            print(comb)\n",
    "            for num in comb:\n",
    "            # tuple can be hashed(used as keys), not list\n",
    "                if num[0]!=num[1]:\n",
    "                    num_dict[num]=num_dict.get(num,0)+1 \n",
    "            result =  [i for i,j in enumerate(comb) if num_dict.get(j[::-1],0)==1]\n",
    "            # need to check if they have opposit\n",
    "            # only can enumerate give all the index\n",
    "        return result"
   ]
  },
  {
   "cell_type": "code",
   "execution_count": 11,
   "metadata": {},
   "outputs": [],
   "source": [
    "# one pass hash - keeping remeber the position, until onece trace back \n",
    "def twoSum( nums, target):\n",
    "        \"\"\"\n",
    "        :type nums: List[int]\n",
    "        :type target: int\n",
    "        :rtype: List[int]\n",
    "        \"\"\"\n",
    "        \n",
    "        num_dict = {}\n",
    "        for key,value in enumerate(nums):\n",
    "            com = target - value \n",
    "            print(com)\n",
    "            print(num_dict)\n",
    "            if num_dict.__contains__(com):\n",
    "                print(num_dict)\n",
    "                return [num_dict.get(com), key] # at this time key is the current key\n",
    "            # the next time would be a trigger to extract the previous one\n",
    "            num_dict[value] = key # if not exist put down the position\n"
   ]
  },
  {
   "cell_type": "code",
   "execution_count": 17,
   "metadata": {},
   "outputs": [],
   "source": [
    "def twoSum(self, nums, target):\n",
    "    num_dict={}\n",
    "    for pos, num in enumerate(nums):\n",
    "        com = target - num\n",
    "        if num_dict.get(com,None)!=None:\n",
    "            return [num_dict[com],pos]\n",
    "        num_dict[num]=pos\n",
    "                "
   ]
  },
  {
   "cell_type": "code",
   "execution_count": null,
   "metadata": {},
   "outputs": [],
   "source": []
  }
 ],
 "metadata": {
  "kernelspec": {
   "display_name": "Python 3",
   "language": "python",
   "name": "python3"
  },
  "language_info": {
   "codemirror_mode": {
    "name": "ipython",
    "version": 3
   },
   "file_extension": ".py",
   "mimetype": "text/x-python",
   "name": "python",
   "nbconvert_exporter": "python",
   "pygments_lexer": "ipython3",
   "version": "3.6.5"
  }
 },
 "nbformat": 4,
 "nbformat_minor": 2
}
