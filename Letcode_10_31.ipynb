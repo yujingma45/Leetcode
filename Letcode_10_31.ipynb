{
 "cells": [
  {
   "cell_type": "markdown",
   "metadata": {},
   "source": [
    "## 1_TWO SUM"
   ]
  },
  {
   "cell_type": "code",
   "execution_count": null,
   "metadata": {},
   "outputs": [],
   "source": [
    "# interesting way is dictionary comprehension\n",
    "dict = dict((key, value) for (key, value) in iterable)\n",
    "dict = dict(key:value for key in iterable)"
   ]
  },
  {
   "cell_type": "code",
   "execution_count": null,
   "metadata": {},
   "outputs": [],
   "source": [
    "# two way hash:\n",
    "# remeber the number sum combinations \n",
    "def twoSum( nums, target):\n",
    "        \"\"\"\n",
    "        :type nums: List[int]\n",
    "        :type target: int\n",
    "        :rtype: List[int]\n",
    "        \"\"\"\n",
    "        num_dict={}\n",
    "        #t_minus_n = [target - i  for i in nums]\n",
    "        if nums.count(target/2)==2:\n",
    "            result = [i for i,j in enumerate(nums) if j==target/2]\n",
    "        else:\n",
    "            comb = list(zip(nums,[target - i  for i in nums]))\n",
    "            #(1,2)!=(2,1) so we can use to see if both 2,1 in the nums list\n",
    "            # like the parentheses question\n",
    "            print(comb)\n",
    "            for num in comb:\n",
    "            # tuple can be hashed(used as keys), not list\n",
    "                if num[0]!=num[1]:\n",
    "                    num_dict[num]=num_dict.get(num,0)+1 \n",
    "            result =  [i for i,j in enumerate(comb) if num_dict.get(j[::-1],0)==1]\n",
    "            # need to check if they have opposit\n",
    "            # only can enumerate give all the index\n",
    "        return result"
   ]
  },
  {
   "cell_type": "code",
   "execution_count": 11,
   "metadata": {},
   "outputs": [],
   "source": [
    "# one pass hash - keeping remeber the position, until onece trace back \n",
    "def twoSum( nums, target):\n",
    "        \"\"\"\n",
    "        :type nums: List[int]\n",
    "        :type target: int\n",
    "        :rtype: List[int]\n",
    "        \"\"\"\n",
    "        \n",
    "        num_dict = {}\n",
    "        for key,value in enumerate(nums):\n",
    "            com = target - value \n",
    "            print(com)\n",
    "            print(num_dict)\n",
    "            if num_dict.__contains__(com):\n",
    "                print(num_dict)\n",
    "                return [num_dict.get(com), key] # at this time key is the current key\n",
    "            # the next time would be a trigger to extract the previous one\n",
    "            num_dict[value] = key # if not exist put down the position\n"
   ]
  },
  {
   "cell_type": "code",
   "execution_count": 17,
   "metadata": {},
   "outputs": [],
   "source": [
    "def twoSum(self, nums, target):\n",
    "    num_dict={}\n",
    "    for pos, num in enumerate(nums):\n",
    "        com = target - num\n",
    "        if num_dict.get(com,None)!=None:\n",
    "            return [num_dict[com],pos]\n",
    "        num_dict[num]=pos\n",
    "                "
   ]
  },
  {
   "cell_type": "markdown",
   "metadata": {},
   "source": [
    "## 2_SingleNum"
   ]
  },
  {
   "cell_type": "code",
   "execution_count": 194,
   "metadata": {},
   "outputs": [],
   "source": [
    "# using set\n",
    "def singleNumber(nums):\n",
    "    return 2*sum(set(nums))-sum(nums)"
   ]
  },
  {
   "cell_type": "code",
   "execution_count": 196,
   "metadata": {},
   "outputs": [
    {
     "data": {
      "text/plain": [
       "4"
      ]
     },
     "execution_count": 196,
     "metadata": {},
     "output_type": "execute_result"
    }
   ],
   "source": [
    "lists=[4,1,2,1,2]\n",
    "singleNumber(lists)"
   ]
  },
  {
   "cell_type": "code",
   "execution_count": 197,
   "metadata": {},
   "outputs": [],
   "source": [
    "def singleNumber2(nums):\n",
    "    res = 0\n",
    "    for num in nums:\n",
    "        res = res^ num\n",
    "        print(res)\n",
    "    return res\n",
    "\n",
    "# https://stackoverflow.com/questions/14526584/what-does-the-xor-operator-do\n",
    "# the number who are not single would be take out later as a mask\n",
    "# only left the single number"
   ]
  },
  {
   "cell_type": "code",
   "execution_count": 199,
   "metadata": {},
   "outputs": [
    {
     "name": "stdout",
     "output_type": "stream",
     "text": [
      "4\n",
      "5\n",
      "7\n",
      "6\n",
      "4\n"
     ]
    },
    {
     "data": {
      "text/plain": [
       "4"
      ]
     },
     "execution_count": 199,
     "metadata": {},
     "output_type": "execute_result"
    }
   ],
   "source": [
    "singleNumber2(nums)"
   ]
  },
  {
   "cell_type": "markdown",
   "metadata": {},
   "source": [
    "###  xor \n",
    "\n",
    "^ is the Python bitwise XOR operator. \n",
    "\n",
    "XOR stands for exclusive OR. It is used in cryptography because it let's you 'flip' the bits using a mask in a reversable operation:\n",
    "\n"
   ]
  },
  {
   "cell_type": "code",
   "execution_count": 198,
   "metadata": {},
   "outputs": [
    {
     "name": "stdout",
     "output_type": "stream",
     "text": [
      "15\n",
      "10\n"
     ]
    }
   ],
   "source": [
    "print(10 ^ 5)\n",
    "print(15 ^ 5)"
   ]
  },
  {
   "cell_type": "markdown",
   "metadata": {},
   "source": [
    "where 5 is the mask; (input XOR mask) **XOR mask gives you the input again**."
   ]
  },
  {
   "cell_type": "code",
   "execution_count": null,
   "metadata": {},
   "outputs": [],
   "source": []
  }
 ],
 "metadata": {
  "kernelspec": {
   "display_name": "Python 3",
   "language": "python",
   "name": "python3"
  },
  "language_info": {
   "codemirror_mode": {
    "name": "ipython",
    "version": 3
   },
   "file_extension": ".py",
   "mimetype": "text/x-python",
   "name": "python",
   "nbconvert_exporter": "python",
   "pygments_lexer": "ipython3",
   "version": "3.6.5"
  }
 },
 "nbformat": 4,
 "nbformat_minor": 2
}
