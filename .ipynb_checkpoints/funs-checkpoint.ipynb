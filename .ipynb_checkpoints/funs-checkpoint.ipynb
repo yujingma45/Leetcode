{
 "cells": [
  {
   "cell_type": "code",
   "execution_count": 12,
   "metadata": {},
   "outputs": [],
   "source": [
    "## Intersection of two arrays"
   ]
  },
  {
   "cell_type": "code",
   "execution_count": 9,
   "metadata": {},
   "outputs": [],
   "source": [
    "# two point -112ms\n",
    "def intersection(nums1,nums2):\n",
    "    return [i for i in list(set(nums2)) if i in list(set(nums1))]"
   ]
  },
  {
   "cell_type": "code",
   "execution_count": 31,
   "metadata": {},
   "outputs": [],
   "source": [
    "# hash table - have one and check -84ms\n",
    "def intersection(nums1,nums2):\n",
    "    if nums1 ==[] or nums2 == []: return []\n",
    "    num_dict = {i:1 for i in nums1} # 1 means it appeared\n",
    "    intsc = []\n",
    "    for num in nums2:\n",
    "        if (num in num_dict) and (num not in intsc): # will do one more search in list\n",
    "            intsc.append(num)\n",
    "    return intsc"
   ]
  },
  {
   "cell_type": "code",
   "execution_count": 30,
   "metadata": {},
   "outputs": [],
   "source": [
    "# hash table - have one and check -48ms\n",
    "def intersection(nums1,nums2):\n",
    "    if nums1 ==[] or nums2 == []: return []\n",
    "    num_dict = {i:1 for i in nums1} # 1 means it appeared\n",
    "    intsc = []\n",
    "    for num in nums2:\n",
    "        if num in num_dict:\n",
    "            intsc.append(num)\n",
    "    return list(set(intsc))   "
   ]
  },
  {
   "cell_type": "code",
   "execution_count": null,
   "metadata": {},
   "outputs": [],
   "source": [
    "# set calcualtion - 36ms\n",
    "def intersection(nums1,nums2):\n",
    "    return list(set(nums1)&set(nums2))   "
   ]
  },
  {
   "cell_type": "code",
   "execution_count": 32,
   "metadata": {},
   "outputs": [
    {
     "data": {
      "text/plain": [
       "[2, 1]"
      ]
     },
     "execution_count": 32,
     "metadata": {},
     "output_type": "execute_result"
    }
   ],
   "source": [
    "intersection([1,2,2,1],[2,2,1,1])"
   ]
  },
  {
   "cell_type": "code",
   "execution_count": null,
   "metadata": {},
   "outputs": [],
   "source": [
    "### About Set calculation"
   ]
  },
  {
   "cell_type": "code",
   "execution_count": 5,
   "metadata": {},
   "outputs": [],
   "source": [
    "num1=[1,2,2,1]\n",
    "num2 = [2,2,3]"
   ]
  },
  {
   "cell_type": "code",
   "execution_count": 6,
   "metadata": {},
   "outputs": [
    {
     "data": {
      "text/plain": [
       "{2}"
      ]
     },
     "execution_count": 6,
     "metadata": {},
     "output_type": "execute_result"
    }
   ],
   "source": [
    "# intersect\n",
    "set(num1)&set(num2)"
   ]
  },
  {
   "cell_type": "code",
   "execution_count": 9,
   "metadata": {},
   "outputs": [
    {
     "data": {
      "text/plain": [
       "{1, 2, 3}"
      ]
     },
     "execution_count": 9,
     "metadata": {},
     "output_type": "execute_result"
    }
   ],
   "source": [
    "# union\n",
    "set(num1)|set(num2)\n",
    "set(num1).union(set(num2))"
   ]
  },
  {
   "cell_type": "code",
   "execution_count": 11,
   "metadata": {},
   "outputs": [
    {
     "data": {
      "text/plain": [
       "{1}"
      ]
     },
     "execution_count": 11,
     "metadata": {},
     "output_type": "execute_result"
    }
   ],
   "source": [
    "# set difference\n",
    "set(num1) - set(num2)\n",
    "set(num1).difference(set(num2))"
   ]
  },
  {
   "cell_type": "code",
   "execution_count": 13,
   "metadata": {},
   "outputs": [],
   "source": [
    "## Intersection of two arrays - 2"
   ]
  },
  {
   "cell_type": "code",
   "execution_count": 14,
   "metadata": {},
   "outputs": [],
   "source": [
    "# two pointers\n",
    "def intersects(nums1,nums2):\n",
    "    return [i for i in list(nums2) if i in list(nums1)]"
   ]
  },
  {
   "cell_type": "code",
   "execution_count": 23,
   "metadata": {},
   "outputs": [],
   "source": [
    "# hash table - have one and check -48ms\n",
    "def intersects(nums1,nums2):\n",
    "    if nums1 ==[] or nums2 == []: return []\n",
    "    intsc = []\n",
    "    num_dict={}\n",
    "    # write nums1 to dcit, with times\n",
    "    for num in nums1:\n",
    "        num_dict[num] = num_dict.get(num,0)+1\n",
    "    \n",
    "    for num in nums2:\n",
    "        if (num in num_dict) and (num_dict[num]!=0):\n",
    "            num_dict[num] -=1\n",
    "            intsc.append(num)\n",
    "    return list(intsc)   "
   ]
  },
  {
   "cell_type": "code",
   "execution_count": 17,
   "metadata": {},
   "outputs": [
    {
     "data": {
      "text/plain": [
       "[2, 2]"
      ]
     },
     "execution_count": 17,
     "metadata": {},
     "output_type": "execute_result"
    }
   ],
   "source": [
    "intersects([1,2,2,1],[2,2,3])"
   ]
  },
  {
   "cell_type": "code",
   "execution_count": 74,
   "metadata": {},
   "outputs": [],
   "source": [
    "# two pointers with sorted array\n",
    "def binarysearch(array,start,end,num):\n",
    "        if start<=end: \n",
    "            mid = start + (end-start)//2\n",
    "            \n",
    "            if array[mid] == num:\n",
    "                return num\n",
    "        \n",
    "            if array[mid]> num:\n",
    "                binarysearch(array,mid+1,end,num)\n",
    "            if array[mid]<= num:\n",
    "                binarysearch(array,start,mid-1,num)\n",
    "            else:\n",
    "                return []\n",
    "\n",
    "\n",
    "def intersects(nums1,nums2):\n",
    "    n_nums1 = len(nums1)\n",
    "    intsc = []\n",
    "    for num in num2:\n",
    "        print(binarysearch(nums1,0,n_nums1,num))\n",
    "        intsc.append(binarysearch(nums1,0,n_nums1,num))\n",
    "    return intsc\n",
    "    \n",
    "            "
   ]
  },
  {
   "cell_type": "code",
   "execution_count": 80,
   "metadata": {},
   "outputs": [],
   "source": [
    "# two pointers - sorted array\n",
    "def intersects(arr1, arr2): \n",
    "    i,j = 0,0\n",
    "    m = len(arr1)\n",
    "    n = len(arr2)\n",
    "    insct = []\n",
    "    while i < m and j < n: \n",
    "        if arr1[i] < arr2[j]: \n",
    "            i += 1\n",
    "        elif arr2[j] < arr1[i]: \n",
    "            j+= 1\n",
    "        else: \n",
    "            insct.append(arr2[j]) \n",
    "            j += 1\n",
    "            i += 1\n",
    "    return insct"
   ]
  },
  {
   "cell_type": "code",
   "execution_count": 82,
   "metadata": {},
   "outputs": [
    {
     "data": {
      "text/plain": [
       "[2, 2, 4]"
      ]
     },
     "execution_count": 82,
     "metadata": {},
     "output_type": "execute_result"
    }
   ],
   "source": [
    "intersects([1,2,2,4],[2,2,3,4])"
   ]
  },
  {
   "cell_type": "code",
   "execution_count": null,
   "metadata": {},
   "outputs": [],
   "source": []
  }
 ],
 "metadata": {
  "kernelspec": {
   "display_name": "Python 3",
   "language": "python",
   "name": "python3"
  },
  "language_info": {
   "codemirror_mode": {
    "name": "ipython",
    "version": 3
   },
   "file_extension": ".py",
   "mimetype": "text/x-python",
   "name": "python",
   "nbconvert_exporter": "python",
   "pygments_lexer": "ipython3",
   "version": "3.6.5"
  },
  "projectdetails": {
   "creator_id": "yma16",
   "notebook_id": "38928935-ecdb-42df-ade8-de41bd3a81ba",
   "notebook_name": "funs.ipynb",
   "prod_sys": "",
   "project_desc": "",
   "project_id": "07bc194e-22ef-4bea-8b02-ff8eb4494b65",
   "project_name": "playground",
   "project_status": null,
   "status": "new"
  }
 },
 "nbformat": 4,
 "nbformat_minor": 2
}
