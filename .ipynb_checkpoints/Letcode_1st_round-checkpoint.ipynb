{
 "cells": [
  {
   "cell_type": "code",
   "execution_count": null,
   "metadata": {},
   "outputs": [],
   "source": [
    "## Hash Table"
   ]
  },
  {
   "cell_type": "markdown",
   "metadata": {},
   "source": [
    "### 1_TWO SUM"
   ]
  },
  {
   "cell_type": "code",
   "execution_count": null,
   "metadata": {},
   "outputs": [],
   "source": [
    "# interesting way is dictionary comprehension\n",
    "dict = dict((key, value) for (key, value) in iterable)\n",
    "dict = dict(key:value for key in iterable)"
   ]
  },
  {
   "cell_type": "code",
   "execution_count": null,
   "metadata": {},
   "outputs": [],
   "source": [
    "# two way hash:\n",
    "# remeber the number sum combinations \n",
    "def twoSum( nums, target):\n",
    "        \"\"\"\n",
    "        :type nums: List[int]\n",
    "        :type target: int\n",
    "        :rtype: List[int]\n",
    "        \"\"\"\n",
    "        num_dict={}\n",
    "        #t_minus_n = [target - i  for i in nums]\n",
    "        if nums.count(target/2)==2:\n",
    "            result = [i for i,j in enumerate(nums) if j==target/2]\n",
    "        else:\n",
    "            comb = list(zip(nums,[target - i  for i in nums]))\n",
    "            #(1,2)!=(2,1) so we can use to see if both 2,1 in the nums list\n",
    "            # like the parentheses question\n",
    "            print(comb)\n",
    "            for num in comb:\n",
    "            # tuple can be hashed(used as keys), not list\n",
    "                if num[0]!=num[1]:\n",
    "                    num_dict[num]=num_dict.get(num,0)+1 \n",
    "            result =  [i for i,j in enumerate(comb) if num_dict.get(j[::-1],0)==1]\n",
    "            # need to check if they have opposit\n",
    "            # only can enumerate give all the index\n",
    "        return result"
   ]
  },
  {
   "cell_type": "code",
   "execution_count": 11,
   "metadata": {},
   "outputs": [],
   "source": [
    "# one pass hash - keeping remeber the position, until onece trace back \n",
    "def twoSum( nums, target):\n",
    "        \"\"\"\n",
    "        :type nums: List[int]\n",
    "        :type target: int\n",
    "        :rtype: List[int]\n",
    "        \"\"\"\n",
    "        \n",
    "        num_dict = {}\n",
    "        for key,value in enumerate(nums):\n",
    "            com = target - value \n",
    "            print(com)\n",
    "            print(num_dict)\n",
    "            if num_dict.__contains__(com):\n",
    "                print(num_dict)\n",
    "                return [num_dict.get(com), key] # at this time key is the current key\n",
    "            # the next time would be a trigger to extract the previous one\n",
    "            num_dict[value] = key # if not exist put down the position\n"
   ]
  },
  {
   "cell_type": "code",
   "execution_count": 17,
   "metadata": {},
   "outputs": [],
   "source": [
    "def twoSum(self, nums, target):\n",
    "    num_dict={}\n",
    "    for pos, num in enumerate(nums):\n",
    "        com = target - num\n",
    "        if num_dict.get(com,None)!=None:\n",
    "            return [num_dict[com],pos]\n",
    "        num_dict[num]=pos\n",
    "                "
   ]
  },
  {
   "cell_type": "markdown",
   "metadata": {},
   "source": [
    "### 136._SingleNum"
   ]
  },
  {
   "cell_type": "code",
   "execution_count": 194,
   "metadata": {},
   "outputs": [],
   "source": [
    "# using set\n",
    "def singleNumber(nums):\n",
    "    return 2*sum(set(nums))-sum(nums)"
   ]
  },
  {
   "cell_type": "code",
   "execution_count": 196,
   "metadata": {},
   "outputs": [
    {
     "data": {
      "text/plain": [
       "4"
      ]
     },
     "execution_count": 196,
     "metadata": {},
     "output_type": "execute_result"
    }
   ],
   "source": [
    "lists=[4,1,2,1,2]\n",
    "singleNumber(lists)"
   ]
  },
  {
   "cell_type": "code",
   "execution_count": 197,
   "metadata": {},
   "outputs": [],
   "source": [
    "def singleNumber2(nums):\n",
    "    res = 0\n",
    "    for num in nums:\n",
    "        res = res^ num\n",
    "        print(res)\n",
    "    return res\n",
    "\n",
    "# https://stackoverflow.com/questions/14526584/what-does-the-xor-operator-do\n",
    "# the number who are not single would be take out later as a mask\n",
    "# only left the single number"
   ]
  },
  {
   "cell_type": "code",
   "execution_count": 199,
   "metadata": {},
   "outputs": [
    {
     "name": "stdout",
     "output_type": "stream",
     "text": [
      "4\n",
      "5\n",
      "7\n",
      "6\n",
      "4\n"
     ]
    },
    {
     "data": {
      "text/plain": [
       "4"
      ]
     },
     "execution_count": 199,
     "metadata": {},
     "output_type": "execute_result"
    }
   ],
   "source": [
    "singleNumber2(nums)"
   ]
  },
  {
   "cell_type": "markdown",
   "metadata": {},
   "source": [
    "###  xor \n",
    "\n",
    "^ is the Python bitwise XOR operator. \n",
    "\n",
    "XOR stands for exclusive OR. It is used in cryptography because it let's you 'flip' the bits using a mask in a reversable operation:\n",
    "\n"
   ]
  },
  {
   "cell_type": "code",
   "execution_count": 198,
   "metadata": {},
   "outputs": [
    {
     "name": "stdout",
     "output_type": "stream",
     "text": [
      "15\n",
      "10\n"
     ]
    }
   ],
   "source": [
    "print(10 ^ 5)\n",
    "print(15 ^ 5)"
   ]
  },
  {
   "cell_type": "markdown",
   "metadata": {},
   "source": [
    "where 5 is the mask; (input XOR mask) **XOR mask gives you the input again**."
   ]
  },
  {
   "cell_type": "markdown",
   "metadata": {},
   "source": [
    "### 217._ contains duplicate"
   ]
  },
  {
   "cell_type": "code",
   "execution_count": 2,
   "metadata": {},
   "outputs": [],
   "source": [
    "class Solution:\n",
    "    def containsDuplicate(self, nums):\n",
    "        \"\"\"\n",
    "        :type nums: List[int]\n",
    "        :rtype: bool\n",
    "        \"\"\"\n",
    "        num_dict={}\n",
    "        for num in nums: \n",
    "            if num in num_dict:\n",
    "                return True\n",
    "            else:\n",
    "                num_dict[num]=1\n",
    "        return False \n"
   ]
  },
  {
   "cell_type": "code",
   "execution_count": 3,
   "metadata": {},
   "outputs": [],
   "source": [
    "class Solution:\n",
    "    def containsDuplicate(self, nums):\n",
    "        \"\"\"\n",
    "        :type nums: List[int]\n",
    "        :rtype: bool\n",
    "        \"\"\"\n",
    "        return len(set(nums))!= len(nums)\n"
   ]
  },
  {
   "cell_type": "markdown",
   "metadata": {},
   "source": [
    "### 219._ contains duplicate II\n",
    "This one has some misleading message. The closest numbers should have the distance less or equal than k. Not all the distances between duplicates should at most k"
   ]
  },
  {
   "cell_type": "code",
   "execution_count": 4,
   "metadata": {},
   "outputs": [],
   "source": [
    "def containsNearbyDuplicate(self, nums, k):\n",
    "        \"\"\"\n",
    "        :type nums: List[int]\n",
    "        :type k: int\n",
    "        :rtype: bool\n",
    "        \"\"\"\n",
    "        if nums==[]: return False\n",
    "        if len(nums)==len(set(nums)): return False\n",
    "        num_dict={i:[] for i in nums}\n",
    "        min_dist= len(nums)\n",
    "        for i in range(0,len(nums)):\n",
    "            key= nums[i]\n",
    "            num_dict[key].append(i)\n",
    "            if len(num_dict[key])>1:\n",
    "                min_dist=min(min_dist,(num_dict[key])[-1]-num_dict[key][-2])\n",
    "        return min_dist<=k"
   ]
  },
  {
   "cell_type": "markdown",
   "metadata": {},
   "source": [
    "The first solution has a big disadvantage:\n",
    "1. Need to create a dict with all the key into it, not necessary\n",
    "2. we only need check dist(two close duplicated number)<=k, So we don't actually need remeber the failed index, we just need to calculate distance with the nearest one. \n",
    "\n",
    "So I did 2nd:"
   ]
  },
  {
   "cell_type": "code",
   "execution_count": 20,
   "metadata": {},
   "outputs": [],
   "source": [
    "def containsNearbyDuplicate(nums, k):\n",
    "        \"\"\"\n",
    "        :type nums: List[int]\n",
    "        :type k: int\n",
    "        :rtype: bool\n",
    "        \"\"\"\n",
    "        if nums==[]: return False\n",
    "        if len(nums)==len(set(nums)): return False\n",
    "        num_dict={}\n",
    "        for i in range(0,len(nums)):\n",
    "            key= nums[i]\n",
    "            if (key in num_dict) and  (i -num_dict[key]<=k):\n",
    "                return True\n",
    "            else:\n",
    "                num_dict[key] = i # only remeber the lastest one\n",
    "        return False"
   ]
  },
  {
   "cell_type": "code",
   "execution_count": 21,
   "metadata": {},
   "outputs": [
    {
     "name": "stdout",
     "output_type": "stream",
     "text": [
      "{1: 0}\n",
      "{1: 0, 2: 1}\n",
      "{1: 0, 2: 1, 3: 2}\n",
      "{1: 3, 2: 1, 3: 2}\n"
     ]
    },
    {
     "data": {
      "text/plain": [
       "True"
      ]
     },
     "execution_count": 21,
     "metadata": {},
     "output_type": "execute_result"
    }
   ],
   "source": [
    "containsNearbyDuplicate([1,2,3,1,1], 1)"
   ]
  },
  {
   "cell_type": "markdown",
   "metadata": {},
   "source": [
    "For solution 2, we don't need to retrive all the num[i], we can use enumerate, don't need else, return will break it:"
   ]
  },
  {
   "cell_type": "code",
   "execution_count": 23,
   "metadata": {},
   "outputs": [],
   "source": [
    "def containsNearbyDuplicate(nums, k):\n",
    "        \"\"\"\n",
    "        :type nums: List[int]\n",
    "        :type k: int\n",
    "        :rtype: bool\n",
    "        \"\"\"\n",
    "        if nums==[] or len(nums)==len(set(nums)) or k<0: return False\n",
    "        # use the condition to eliminate all unexpect situation\n",
    "        num_dict={}\n",
    "        for i,num in enumerate(nums):\n",
    "            if (num in num_dict) and (i -num_dict[num]<=k):\n",
    "                return True\n",
    "            num_dict[num] = i # only remeber the lastest one\n",
    "        return False "
   ]
  },
  {
   "cell_type": "markdown",
   "metadata": {},
   "source": [
    "Truns out mine(solution 1) is faster..., reduced the loop key. So I modified my solution 1 to, make it simpler and elegant:"
   ]
  },
  {
   "cell_type": "code",
   "execution_count": 24,
   "metadata": {},
   "outputs": [],
   "source": [
    "def containsNearbyDuplicate(self, nums, k):\n",
    "        \"\"\"\n",
    "        :type nums: List[int]\n",
    "        :type k: int\n",
    "        :rtype: bool\n",
    "        \"\"\"\n",
    "        if nums==[] or len(nums)==len(set(nums)) or k<0: return False\n",
    "        num_dict={i:[] for i in nums}\n",
    "        min_dist= len(nums)\n",
    "        for i in range(0,len(nums)):\n",
    "            key= nums[i]\n",
    "            num_dict[key].append(i)\n",
    "            if len(num_dict[key])>1:\n",
    "                min_dist=min(min_dist,(num_dict[key])[-1]-num_dict[key][-2])\n",
    "        return min_dist<=k"
   ]
  },
  {
   "cell_type": "markdown",
   "metadata": {},
   "source": [
    "### 242._ Valid Anagram"
   ]
  },
  {
   "cell_type": "code",
   "execution_count": null,
   "metadata": {},
   "outputs": [],
   "source": [
    "# using array/set\n",
    "def isAnagram(self, s, t):\n",
    "        \"\"\"\n",
    "        :type s: str\n",
    "        :type t: str\n",
    "        :rtype: bool\n",
    "        \"\"\"\n",
    "        if len(s)!=len(t): return False\n",
    "        if set(s)!=set(t): return False\n",
    "\n",
    "        return sorted(s)==sorted(t)"
   ]
  },
  {
   "cell_type": "code",
   "execution_count": 27,
   "metadata": {},
   "outputs": [],
   "source": [
    "# using hash table1\n",
    "def isAnagram(self, s, t):\n",
    "        \"\"\"\n",
    "        :type s: str\n",
    "        :type t: str\n",
    "        :rtype: bool\n",
    "        \"\"\"\n",
    "        if len(s)!=len(t): return False\n",
    "        if set(s)!=set(t): return False\n",
    "        s_dict,t_dict={},{}\n",
    "        for char in s:\n",
    "            s_dict[char] = s_dict.get(char,0)+1\n",
    "\n",
    "        for char in t:\n",
    "            t_dict[char] = t_dict.get(char,0)+1\n",
    "        return s_dict==t_dict"
   ]
  },
  {
   "cell_type": "code",
   "execution_count": 33,
   "metadata": {},
   "outputs": [],
   "source": [
    "# using hash table2 - not quite fast.. since we rewrite the same dict\n",
    "def isAnagram(self, s, t):\n",
    "        \"\"\"\n",
    "        :type s: str\n",
    "        :type t: str\n",
    "        :rtype: bool\n",
    "        \"\"\"\n",
    "        if len(s)!=len(t) or set(s)!=set(t): return False\n",
    "        char_dict = {}\n",
    "        for char in s:\n",
    "            char_dict [char] = char_dict.get(char,0)+1\n",
    "        for char in t:\n",
    "            char_dict[char] = char_dict[char]-1\n",
    "        return all(value == 0 for value in char_dict.values())"
   ]
  },
  {
   "cell_type": "code",
   "execution_count": null,
   "metadata": {},
   "outputs": [],
   "source": [
    "## Turns out the best solution using ... count... so I tried two:"
   ]
  },
  {
   "cell_type": "code",
   "execution_count": 36,
   "metadata": {},
   "outputs": [],
   "source": [
    "def isAnagram(self, s, t):\n",
    "        \"\"\"\n",
    "        :type s: str\n",
    "        :type t: str\n",
    "        :rtype: bool\n",
    "        \"\"\"\n",
    "        return all(s.count(c) == t.count(c) for c in \"abcdefghijklmnopqrstuvwxyz\")"
   ]
  },
  {
   "cell_type": "code",
   "execution_count": null,
   "metadata": {},
   "outputs": [],
   "source": [
    "## give an early break if count doesn't match\n",
    "\n",
    "def isAnagram(self, s, t):\n",
    "        \"\"\"\n",
    "        :type s: str\n",
    "        :type t: str\n",
    "        :rtype: bool\n",
    "        \"\"\"\n",
    "        l = \"abcdefghijklmnopqrstuvwxyz\"\n",
    "        for c in l:\n",
    "            if s.count(c) != t.count(c): return False\n",
    "        return True"
   ]
  },
  {
   "cell_type": "markdown",
   "metadata": {},
   "source": [
    "### all(iterable)\n",
    "\n",
    "The all() method returns:\n",
    "\n",
    "True - If all elements in an iterable are true\n",
    "False - If any element in an iterable is false\n",
    "https://stackoverflow.com/questions/35253971/how-to-check-if-all-values-of-a-dictionary-are-0-in-python\n",
    "\n",
    "### str.count(\"substr\")"
   ]
  },
  {
   "cell_type": "markdown",
   "metadata": {},
   "source": [
    "### 28._ Implement strStr()"
   ]
  },
  {
   "cell_type": "code",
   "execution_count": 4,
   "metadata": {},
   "outputs": [],
   "source": [
    "def strStr(haystack, needle):\n",
    "    if needle == []: return -1\n",
    "    return haystack.find(needle)        "
   ]
  },
  {
   "cell_type": "code",
   "execution_count": 6,
   "metadata": {},
   "outputs": [],
   "source": [
    "def strStr(haystack,needle):\n",
    "    l1=len(haystack)\n",
    "    l2=len(needle)\n",
    "    if l2==0 : return 0\n",
    "    if l1<l2: return -1\n",
    "    for i in range(0,l1-l2+1):\n",
    "        if needle == haystack[i:i+l2]:\n",
    "            return i\n",
    "    return -1"
   ]
  },
  {
   "cell_type": "code",
   "execution_count": null,
   "metadata": {},
   "outputs": [],
   "source": [
    "def strStr(haystack,needle):\n",
    "    if needle == []:return 0\n",
    "    if needle not in haystack:\n",
    "        return -1\n",
    "    return haystack.find(needle)"
   ]
  },
  {
   "cell_type": "markdown",
   "metadata": {},
   "source": [
    "### 205._Isomorphic strings"
   ]
  },
  {
   "cell_type": "code",
   "execution_count": 148,
   "metadata": {},
   "outputs": [],
   "source": [
    "# solution 1 -48ms\n",
    "def isIsomorphic(s, t):\n",
    "    if s==[] or t==[] or len(s)!=len(t) or len(set(s))!= len(set(t)): return False\n",
    "    c_dict={}\n",
    "    for a,b in list(zip(t,s)):\n",
    "        if a in c_dict:\n",
    "            if b!= c_dict[a]:\n",
    "                return False\n",
    "        c_dict[a]=b\n",
    "    return True   "
   ]
  },
  {
   "cell_type": "code",
   "execution_count": 179,
   "metadata": {},
   "outputs": [],
   "source": [
    "# solution 2 --36ms\n",
    "def isIsomorphic(s, t):\n",
    "    if s==[] or t==[]: return False\n",
    "    return len(set(zip(s,t))) == len(set(s))== len(set(t))"
   ]
  },
  {
   "cell_type": "markdown",
   "metadata": {},
   "source": [
    "### [290.]_ Word Pattern \n",
    "similar to Isomorphic strings"
   ]
  },
  {
   "cell_type": "code",
   "execution_count": 414,
   "metadata": {},
   "outputs": [],
   "source": [
    "# solution 40ms\n",
    "def wordPattern(pattern, str):\n",
    "        \"\"\"\n",
    "        :type pattern: str\n",
    "        :type str: str\n",
    "        :rtype: bool\n",
    "        \"\"\"\n",
    "        c_dict={}\n",
    "        s = str.split(\" \")\n",
    "        p = list(pattern)\n",
    "        if len(set(s))!=len(set(p)) or len(s)!=len(p): return False\n",
    "        for a,b in list(zip(p,s)):\n",
    "            if a in c_dict:\n",
    "                if b!= c_dict[a]:\n",
    "                    return False\n",
    "            c_dict[a]=b\n",
    "        return True   "
   ]
  },
  {
   "cell_type": "code",
   "execution_count": 415,
   "metadata": {},
   "outputs": [],
   "source": [
    "# 36ms\n",
    "def wordPattern(pattern, str):\n",
    "    s = str.split(\" \")\n",
    "    p = list(pattern)\n",
    "    if s==[] or p==[] or len(s)!=len(p): return False\n",
    "    \n",
    "    return len(set(zip(s,p)))== len(set(s)) == len(set(p))\n",
    "    "
   ]
  },
  {
   "cell_type": "code",
   "execution_count": 411,
   "metadata": {},
   "outputs": [
    {
     "data": {
      "text/plain": [
       "False"
      ]
     },
     "execution_count": 411,
     "metadata": {},
     "output_type": "execute_result"
    }
   ],
   "source": [
    "wordPattern(\"abba\",\"dog dog dog dog\")"
   ]
  },
  {
   "cell_type": "markdown",
   "metadata": {},
   "source": [
    "### [204]._Count Prime"
   ]
  },
  {
   "cell_type": "code",
   "execution_count": 275,
   "metadata": {},
   "outputs": [],
   "source": [
    "# count prime by using up to n/2 for each\n",
    "# too long time\n",
    "def countPrimes(n):\n",
    "    if n <=2: return 0\n",
    "    count = n-2\n",
    "    for i in range(3,n):\n",
    "        for j in range(2,max(int(i/2),3)):\n",
    "            if i%j ==0 & i!=j:\n",
    "                count -=1\n",
    "                break\n",
    "    return count\n",
    "            "
   ]
  },
  {
   "cell_type": "code",
   "execution_count": 327,
   "metadata": {},
   "outputs": [],
   "source": [
    "## Sieve of Eratosthenes still too long \n",
    "def countPrimes(n):\n",
    "    if n <=2: return 0\n",
    "    if n ==3: return 1\n",
    "    l = list(range(2,n))\n",
    "    for j in range(2,n//2+1):\n",
    "        for i in l:\n",
    "            if i%j==0 and i!=j:\n",
    "                l.remove(i)\n",
    "\n",
    "    return len(l)"
   ]
  },
  {
   "cell_type": "markdown",
   "metadata": {},
   "source": [
    "Hints:\n",
    "1. In fact, we can mark off multiples of 5 starting at 5 × 5 = 25, because 5 × 2 = 10 was already marked off by multiple of 2, similarly 5 × 3 = 15 was already marked off by multiple of 3. Therefore, if the current number is p, we can always mark off multiples of p starting at p2, then in increments of p: p2 + p, p2 + 2p, ...\n",
    "\n",
    "2. we only need to consider factors up to √n because, if n is divisible by some number p, then n = p × q and since p ≤ q, we could derive that p ≤ √n."
   ]
  },
  {
   "cell_type": "code",
   "execution_count": 369,
   "metadata": {},
   "outputs": [],
   "source": [
    "# 132 ms\n",
    "def countPrimes(n):\n",
    "    if n < 3: \n",
    "        return 0\n",
    "    s = [1] * n\n",
    "    s[0] = s[1] = 0 # 0,1 is not prime\n",
    "    sqrtn = int(round(n**0.5))# only need to search till sqrt(n)\n",
    "    for i in range(2, sqrtn + 1):\n",
    "        if s[i]: # if it's true \n",
    "            # s[start:end:space]\n",
    "            # using space to delete 2**2,2**3,2**3+2...\n",
    "            s[i*i: n: i] =  [0] * len(range(i*i, n, i))\n",
    "    return sum(s)"
   ]
  },
  {
   "cell_type": "code",
   "execution_count": 370,
   "metadata": {},
   "outputs": [
    {
     "data": {
      "text/plain": [
       "41537"
      ]
     },
     "execution_count": 370,
     "metadata": {},
     "output_type": "execute_result"
    }
   ],
   "source": [
    "countPrimes(499979)"
   ]
  },
  {
   "cell_type": "markdown",
   "metadata": {},
   "source": [
    "### [349]._Intersection of two arrays"
   ]
  },
  {
   "cell_type": "code",
   "execution_count": 416,
   "metadata": {},
   "outputs": [],
   "source": [
    "# two point -112ms\n",
    "def intersection(nums1,nums2):\n",
    "    return [i for i in list(set(nums2)) if i in list(set(nums1))]"
   ]
  },
  {
   "cell_type": "code",
   "execution_count": 417,
   "metadata": {},
   "outputs": [],
   "source": [
    "# hash table - have one and check -84ms\n",
    "def intersection(nums1,nums2):\n",
    "    if nums1 ==[] or nums2 == []: return []\n",
    "    num_dict = {i:1 for i in nums1} # 1 means it appeared\n",
    "    intsc = []\n",
    "    for num in nums2:\n",
    "        if (num in num_dict) and (num not in intsc): # will do one more search in list\n",
    "            intsc.append(num)\n",
    "    return intsc"
   ]
  },
  {
   "cell_type": "code",
   "execution_count": 418,
   "metadata": {},
   "outputs": [],
   "source": [
    "# hash table - have one and check -48ms\n",
    "def intersection(nums1,nums2):\n",
    "    if nums1 ==[] or nums2 == []: return []\n",
    "    num_dict = {i:1 for i in nums1} # 1 means it appeared\n",
    "    intsc = []\n",
    "    for num in nums2:\n",
    "        if num in num_dict:\n",
    "            intsc.append(num)\n",
    "    return list(set(intsc))   "
   ]
  },
  {
   "cell_type": "code",
   "execution_count": null,
   "metadata": {},
   "outputs": [],
   "source": [
    "# set calcualtion - 36ms\n",
    "def intersection(nums1,nums2):\n",
    "    return list(set(nums1)&set(nums2)) "
   ]
  },
  {
   "cell_type": "markdown",
   "metadata": {},
   "source": [
    "#### About Set calculation"
   ]
  },
  {
   "cell_type": "code",
   "execution_count": 419,
   "metadata": {},
   "outputs": [],
   "source": [
    "num1=[1,2,2,1]\n",
    "num2 = [2,2,3]"
   ]
  },
  {
   "cell_type": "code",
   "execution_count": 420,
   "metadata": {},
   "outputs": [
    {
     "data": {
      "text/plain": [
       "{2}"
      ]
     },
     "execution_count": 420,
     "metadata": {},
     "output_type": "execute_result"
    }
   ],
   "source": [
    "# intersect\n",
    "set(num1)&set(num2)"
   ]
  },
  {
   "cell_type": "code",
   "execution_count": 421,
   "metadata": {},
   "outputs": [
    {
     "data": {
      "text/plain": [
       "{1, 2, 3}"
      ]
     },
     "execution_count": 421,
     "metadata": {},
     "output_type": "execute_result"
    }
   ],
   "source": [
    "# union\n",
    "set(num1)|set(num2)\n",
    "set(num1).union(set(num2))"
   ]
  },
  {
   "cell_type": "code",
   "execution_count": 422,
   "metadata": {},
   "outputs": [
    {
     "data": {
      "text/plain": [
       "{1}"
      ]
     },
     "execution_count": 422,
     "metadata": {},
     "output_type": "execute_result"
    }
   ],
   "source": [
    "# set difference\n",
    "set(num1) - set(num2)\n",
    "set(num1).difference(set(num2))"
   ]
  },
  {
   "cell_type": "markdown",
   "metadata": {},
   "source": [
    "### [350] Intersection of two arrays - 2"
   ]
  },
  {
   "cell_type": "code",
   "execution_count": null,
   "metadata": {},
   "outputs": [],
   "source": [
    "# hash table - have one and check -56ms\n",
    "def intersects(nums1,nums2):\n",
    "    if nums1 ==[] or nums2 == []: return []\n",
    "    intsc = []\n",
    "    num_dict={}\n",
    "    # write nums1 to dcit, with times\n",
    "    for num in nums1:\n",
    "        num_dict[num] = num_dict.get(num,0)+1\n",
    "    \n",
    "    for num in nums2:\n",
    "        if (num in num_dict) and (num_dict[num]!=0):\n",
    "            num_dict[num] -=1\n",
    "            intsc.append(num)\n",
    "    return list(intsc) "
   ]
  },
  {
   "cell_type": "code",
   "execution_count": 424,
   "metadata": {},
   "outputs": [],
   "source": [
    "# two pointers with sorted array\n",
    "def binarysearch(array,start,end,num):\n",
    "        if start<=end: \n",
    "            mid = start + (end-start)//2\n",
    "            \n",
    "            if array[mid] == num:\n",
    "                return num\n",
    "        \n",
    "            if array[mid]> num:\n",
    "                binarysearch(array,mid+1,end,num)\n",
    "            if array[mid]<= num:\n",
    "                binarysearch(array,start,mid-1,num)\n",
    "            else:\n",
    "                return []\n",
    "\n",
    "\n",
    "def intersects(nums1,nums2):\n",
    "    n_nums1 = len(nums1)\n",
    "    intsc = []\n",
    "    for num in num2:\n",
    "        print(binarysearch(nums1,0,n_nums1,num))\n",
    "        intsc.append(binarysearch(nums1,0,n_nums1,num))\n",
    "    return intsc\n",
    "    "
   ]
  },
  {
   "cell_type": "code",
   "execution_count": null,
   "metadata": {},
   "outputs": [],
   "source": [
    "def intersects(arr1, arr2): \n",
    "    i,j = 0,0\n",
    "    m = len(arr1)\n",
    "    n = len(arr2)\n",
    "    insct = []\n",
    "    while i < m and j < n: \n",
    "        if arr1[i] < arr2[j]: \n",
    "            i += 1\n",
    "        elif arr2[j] < arr1[i]: \n",
    "            j+= 1\n",
    "        else: \n",
    "            insct.append(arr2[j]) \n",
    "            j += 1\n",
    "            i += 1\n",
    "    return insct"
   ]
  },
  {
   "cell_type": "markdown",
   "metadata": {},
   "source": [
    "### [389] Find the difference"
   ]
  },
  {
   "cell_type": "code",
   "execution_count": 450,
   "metadata": {},
   "outputs": [],
   "source": [
    "# hash table 76ms\n",
    "def findTheDifference(s, t):\n",
    "    s_dict = {i:s.count(i) for i in s}\n",
    "    for char in t:\n",
    "        if char in s_dict and s_dict[char]>=1:\n",
    "            s_dict[char]-=1\n",
    "        else:\n",
    "            return char\n",
    "        "
   ]
  },
  {
   "cell_type": "code",
   "execution_count": 456,
   "metadata": {},
   "outputs": [],
   "source": [
    "# hash table - 72ms\n",
    "def findTheDifference(s, t):\n",
    "    s_dict = {i:s.count(i) for i in s}\n",
    "    t_dict = {i:t.count(i) for i in t}\n",
    "    diff_list = [key for key,value in t_dict.items() if key not in s_dict or value!=s_dict[key]]\n",
    "    return \"''\".join(diff_list)"
   ]
  },
  {
   "cell_type": "code",
   "execution_count": 652,
   "metadata": {},
   "outputs": [],
   "source": [
    "# use collections -36ms\n",
    "import collections\n",
    "def findTheDifference(s, t):\n",
    "    s_dict = collections.Counter(s)\n",
    "    t_dict = collections.Counter(t)\n",
    "    return \"''\".join(t_dict-s_dict)"
   ]
  },
  {
   "cell_type": "code",
   "execution_count": 477,
   "metadata": {},
   "outputs": [],
   "source": [
    "# use list remove method --64ms\n",
    "def findTheDifference(s, t):\n",
    "    t = list(t)\n",
    "    for char in s:\n",
    "        t.remove(char)\n",
    "    return \"'\".join(t)"
   ]
  },
  {
   "cell_type": "code",
   "execution_count": 495,
   "metadata": {},
   "outputs": [],
   "source": [
    "# use Bit Manipulation --36ms\n",
    "# convert the strings to binary using the built-in ord() function\n",
    "def findTheDifference(s, t):\n",
    "#     s = [ord(char) for char in s]\n",
    "#     t = [ord(char) for char in t]\n",
    "    res = 0 # start with 0\n",
    "    for i in s+t:\n",
    "        res = res^ord(i)\n",
    "    return chr(res)"
   ]
  },
  {
   "cell_type": "markdown",
   "metadata": {},
   "source": [
    "### Note about this question:\n",
    "1. we can use chr() ord() to switch between character and number\n",
    "2. bit manipulate is quite useful to check the difference\n",
    "3. bit manipulate is always start with 0 and then keep \"^\""
   ]
  },
  {
   "cell_type": "markdown",
   "metadata": {},
   "source": [
    "### [409] Longest Palindrome"
   ]
  },
  {
   "cell_type": "code",
   "execution_count": 602,
   "metadata": {},
   "outputs": [],
   "source": [
    "# hash table -72ms -56ms when not transfer to list\n",
    "def longestPalindrome(s):\n",
    "    if len(set(s)) ==1: return len(s)\n",
    "    s_dict = {i:s.count(i) for i in s}\n",
    "    l = sum(v//2*2 for v in s_dict.values() if v//2!=0)\n",
    "    # don't need transfer to list as sum([])\n",
    "    if l%2!=1 and any( v%2==1 for v in s_dict.values()):\n",
    "        return l+1\n",
    "    else:\n",
    "        return l\n",
    "    "
   ]
  },
  {
   "cell_type": "code",
   "execution_count": 605,
   "metadata": {},
   "outputs": [],
   "source": [
    "# the problem actually is play with odds \n",
    "# if times of numbe is odds we need to keep the even part \n",
    "# and added odds if we need \n",
    "def longestPalindrome(s):\n",
    "    s_dict = {i:s.count(i) for i in s}\n",
    "    odds = [ v for v in s_dict.values() if v%2!=0] \n",
    "    return len(s)-len(odds)+1"
   ]
  },
  {
   "cell_type": "code",
   "execution_count": 645,
   "metadata": {},
   "outputs": [],
   "source": [
    "# something amazing -- 36ms\n",
    "def longestPalindrome(self, s):\n",
    "    odds = sum(v & 1 for v in collections.Counter(s).values())# return True or False(odds or even)\n",
    "    return len(s) - odds + bool(odds)"
   ]
  },
  {
   "cell_type": "markdown",
   "metadata": {},
   "source": [
    "### About bool()\n",
    "It lets you convert any Python value to a boolean value"
   ]
  },
  {
   "cell_type": "code",
   "execution_count": 644,
   "metadata": {},
   "outputs": [
    {
     "data": {
      "text/plain": [
       "False"
      ]
     },
     "execution_count": 644,
     "metadata": {},
     "output_type": "execute_result"
    }
   ],
   "source": [
    "bool(0) # only if 0 it will return false"
   ]
  },
  {
   "cell_type": "code",
   "execution_count": 643,
   "metadata": {},
   "outputs": [
    {
     "data": {
      "text/plain": [
       "True"
      ]
     },
     "execution_count": 643,
     "metadata": {},
     "output_type": "execute_result"
    }
   ],
   "source": [
    "bool(3)"
   ]
  },
  {
   "cell_type": "markdown",
   "metadata": {},
   "source": [
    "### About \"a &1\"\n",
    "The & symbol is a bitwise AND operator. \n",
    "Used with 1, it basically masks the value to extract the lowest bit, or in other words will tell you if the value is even or odd.\n",
    "https://stackoverflow.com/questions/8556206/what-does-mean-in-python"
   ]
  },
  {
   "cell_type": "markdown",
   "metadata": {},
   "source": [
    "### About collections module\n",
    "- collections.Counter()\n",
    "\n",
    "A **Counter** is a **dict** subclass for counting hashable objects. It is an unordered collection where elements are stored as dictionary keys and their counts are stored as dictionary values. Counts are allowed to be any integer value including zero or negative counts. The Counter class is similar to bags or multisets in other languages.\n",
    "\n",
    "https://docs.python.org/2/library/collections.html"
   ]
  },
  {
   "cell_type": "code",
   "execution_count": 613,
   "metadata": {},
   "outputs": [
    {
     "data": {
      "text/plain": [
       "Counter({'a': 1, 'b': 1, 'c': 4, 'd': 2})"
      ]
     },
     "execution_count": 613,
     "metadata": {},
     "output_type": "execute_result"
    }
   ],
   "source": [
    "import collections\n",
    "s ='abccccdd'\n",
    "collections.Counter(s)"
   ]
  },
  {
   "cell_type": "code",
   "execution_count": 615,
   "metadata": {},
   "outputs": [
    {
     "data": {
      "text/plain": [
       "Counter({'cats': 4, 'dogs': 8})"
      ]
     },
     "execution_count": 615,
     "metadata": {},
     "output_type": "execute_result"
    }
   ],
   "source": [
    "collections.Counter(cats=4, dogs=8)"
   ]
  },
  {
   "cell_type": "code",
   "execution_count": 616,
   "metadata": {},
   "outputs": [
    {
     "data": {
      "text/plain": [
       "Counter({'cats': 4, 'dogs': 8})"
      ]
     },
     "execution_count": 616,
     "metadata": {},
     "output_type": "execute_result"
    }
   ],
   "source": [
    "collections.Counter({'cats': 4, 'dogs': 8})"
   ]
  },
  {
   "cell_type": "code",
   "execution_count": 624,
   "metadata": {},
   "outputs": [
    {
     "name": "stdout",
     "output_type": "stream",
     "text": [
      "keys: ['a', 'b', 'c', 'c', 'c', 'c', 'd', 'd']\n",
      "Top 2 most common keys:[('c', 4), ('d', 2)]\n"
     ]
    }
   ],
   "source": [
    "a = collections.Counter(s)\n",
    "print(\"keys: {}\".format(list(a.elements()))) # need list\n",
    "print(\"Top 2 most common keys:{}\".format(list(a.most_common(2))))"
   ]
  },
  {
   "cell_type": "code",
   "execution_count": 628,
   "metadata": {},
   "outputs": [
    {
     "name": "stdout",
     "output_type": "stream",
     "text": [
      "Counter({'a': 3, 'b': 0, 'c': -3, 'd': -6})\n"
     ]
    }
   ],
   "source": [
    "c = collections.Counter(a=4, b=2, c=0, d=-2)\n",
    "d = collections.Counter(a=1, b=2, c=3, d=4)\n",
    "c.subtract(d)\n",
    "print(c)"
   ]
  },
  {
   "cell_type": "code",
   "execution_count": 136,
   "metadata": {},
   "outputs": [],
   "source": [
    "### 38._ Implement strStr()"
   ]
  },
  {
   "cell_type": "code",
   "execution_count": 124,
   "metadata": {},
   "outputs": [],
   "source": [
    "from functools import reduce\n",
    "def countAndSay(n):\n",
    "    i=1\n",
    "    l=[1]\n",
    "    while i<n:\n",
    "        num_dict={}\n",
    "        for num in l:\n",
    "            num_dict[num] = num_dict.get(num,0)+1\n",
    "        print(num_dict)\n",
    "        l=list(reduce(lambda key,value: value+key, num_dict.items()))[::-1]\n",
    "        i = i +1\n",
    "    return l"
   ]
  },
  {
   "cell_type": "code",
   "execution_count": null,
   "metadata": {},
   "outputs": [],
   "source": [
    "def countAndSay(n):\n",
    "    i=1\n",
    "    l=[1]\n",
    "    l= [map(str,l)]\n",
    "    for i in l:\n",
    "        l.count(i),i\n",
    "    [l.count(i),i for i in l]\n",
    "    return l"
   ]
  },
  {
   "cell_type": "code",
   "execution_count": 127,
   "metadata": {},
   "outputs": [
    {
     "name": "stdout",
     "output_type": "stream",
     "text": [
      "{1: 1}\n",
      "{1: 2}\n",
      "{2: 1, 1: 1}\n",
      "{1: 3, 2: 1}\n"
     ]
    },
    {
     "data": {
      "text/plain": [
       "[3, 1, 1, 2]"
      ]
     },
     "execution_count": 127,
     "metadata": {},
     "output_type": "execute_result"
    }
   ],
   "source": [
    "countAndSay(5)"
   ]
  },
  {
   "cell_type": "code",
   "execution_count": null,
   "metadata": {},
   "outputs": [],
   "source": []
  }
 ],
 "metadata": {
  "kernelspec": {
   "display_name": "Python 3",
   "language": "python",
   "name": "python3"
  },
  "language_info": {
   "codemirror_mode": {
    "name": "ipython",
    "version": 3
   },
   "file_extension": ".py",
   "mimetype": "text/x-python",
   "name": "python",
   "nbconvert_exporter": "python",
   "pygments_lexer": "ipython3",
   "version": "3.6.5"
  }
 },
 "nbformat": 4,
 "nbformat_minor": 2
}
