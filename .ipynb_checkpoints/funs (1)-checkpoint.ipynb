{
 "cells": [
  {
   "cell_type": "code",
   "execution_count": 12,
   "metadata": {},
   "outputs": [],
   "source": [
    "## Intersection of two arrays"
   ]
  },
  {
   "cell_type": "code",
   "execution_count": 9,
   "metadata": {},
   "outputs": [],
   "source": [
    "# two point -112ms\n",
    "def intersection(nums1,nums2):\n",
    "    return [i for i in list(set(nums2)) if i in list(set(nums1))]"
   ]
  },
  {
   "cell_type": "code",
   "execution_count": 31,
   "metadata": {},
   "outputs": [],
   "source": [
    "# hash table - have one and check -84ms\n",
    "def intersection(nums1,nums2):\n",
    "    if nums1 ==[] or nums2 == []: return []\n",
    "    num_dict = {i:1 for i in nums1} # 1 means it appeared\n",
    "    intsc = []\n",
    "    for num in nums2:\n",
    "        if (num in num_dict) and (num not in intsc): # will do one more search in list\n",
    "            intsc.append(num)\n",
    "    return intsc"
   ]
  },
  {
   "cell_type": "code",
   "execution_count": 30,
   "metadata": {},
   "outputs": [],
   "source": [
    "# hash table - have one and check -48ms\n",
    "def intersection(nums1,nums2):\n",
    "    if nums1 ==[] or nums2 == []: return []\n",
    "    num_dict = {i:1 for i in nums1} # 1 means it appeared\n",
    "    intsc = []\n",
    "    for num in nums2:\n",
    "        if num in num_dict:\n",
    "            intsc.append(num)\n",
    "    return list(set(intsc))   "
   ]
  },
  {
   "cell_type": "code",
   "execution_count": null,
   "metadata": {},
   "outputs": [],
   "source": [
    "# set calcualtion - 36ms\n",
    "def intersection(nums1,nums2):\n",
    "    return list(set(nums1)&set(nums2))   "
   ]
  },
  {
   "cell_type": "code",
   "execution_count": 32,
   "metadata": {},
   "outputs": [
    {
     "data": {
      "text/plain": [
       "[2, 1]"
      ]
     },
     "execution_count": 32,
     "metadata": {},
     "output_type": "execute_result"
    }
   ],
   "source": [
    "intersection([1,2,2,1],[2,2,1,1])"
   ]
  },
  {
   "cell_type": "code",
   "execution_count": null,
   "metadata": {},
   "outputs": [],
   "source": [
    "### About Set calculation"
   ]
  },
  {
   "cell_type": "code",
   "execution_count": 5,
   "metadata": {},
   "outputs": [],
   "source": [
    "num1=[1,2,2,1]\n",
    "num2 = [2,2,3]"
   ]
  },
  {
   "cell_type": "code",
   "execution_count": 6,
   "metadata": {},
   "outputs": [
    {
     "data": {
      "text/plain": [
       "{2}"
      ]
     },
     "execution_count": 6,
     "metadata": {},
     "output_type": "execute_result"
    }
   ],
   "source": [
    "# intersect\n",
    "set(num1)&set(num2)"
   ]
  },
  {
   "cell_type": "code",
   "execution_count": 9,
   "metadata": {},
   "outputs": [
    {
     "data": {
      "text/plain": [
       "{1, 2, 3}"
      ]
     },
     "execution_count": 9,
     "metadata": {},
     "output_type": "execute_result"
    }
   ],
   "source": [
    "# union\n",
    "set(num1)|set(num2)\n",
    "set(num1).union(set(num2))"
   ]
  },
  {
   "cell_type": "code",
   "execution_count": 11,
   "metadata": {},
   "outputs": [
    {
     "data": {
      "text/plain": [
       "{1}"
      ]
     },
     "execution_count": 11,
     "metadata": {},
     "output_type": "execute_result"
    }
   ],
   "source": [
    "# set difference\n",
    "set(num1) - set(num2)\n",
    "set(num1).difference(set(num2))"
   ]
  },
  {
   "cell_type": "code",
   "execution_count": 13,
   "metadata": {},
   "outputs": [],
   "source": [
    "## Intersection of two arrays - 2"
   ]
  },
  {
   "cell_type": "code",
   "execution_count": 14,
   "metadata": {},
   "outputs": [],
   "source": [
    "# two pointers\n",
    "def intersects(nums1,nums2):\n",
    "    return [i for i in list(nums2) if i in list(nums1)]"
   ]
  },
  {
   "cell_type": "code",
   "execution_count": 23,
   "metadata": {},
   "outputs": [],
   "source": [
    "# hash table - have one and check -48ms\n",
    "def intersects(nums1,nums2):\n",
    "    if nums1 ==[] or nums2 == []: return []\n",
    "    intsc = []\n",
    "    num_dict={}\n",
    "    # write nums1 to dcit, with times\n",
    "    for num in nums1:\n",
    "        num_dict[num] = num_dict.get(num,0)+1\n",
    "    \n",
    "    for num in nums2:\n",
    "        if (num in num_dict) and (num_dict[num]!=0):\n",
    "            num_dict[num] -=1\n",
    "            intsc.append(num)\n",
    "    return list(intsc)   "
   ]
  },
  {
   "cell_type": "code",
   "execution_count": 17,
   "metadata": {},
   "outputs": [
    {
     "data": {
      "text/plain": [
       "[2, 2]"
      ]
     },
     "execution_count": 17,
     "metadata": {},
     "output_type": "execute_result"
    }
   ],
   "source": [
    "intersects([1,2,2,1],[2,2,3])"
   ]
  },
  {
   "cell_type": "code",
   "execution_count": 74,
   "metadata": {},
   "outputs": [],
   "source": [
    "# two pointers with sorted array\n",
    "def binarysearch(array,start,end,num):\n",
    "        if start<=end: \n",
    "            mid = start + (end-start)//2\n",
    "            \n",
    "            if array[mid] == num:\n",
    "                return num\n",
    "        \n",
    "            if array[mid]> num:\n",
    "                binarysearch(array,mid+1,end,num)\n",
    "            if array[mid]<= num:\n",
    "                binarysearch(array,start,mid-1,num)\n",
    "            else:\n",
    "                return []\n",
    "\n",
    "\n",
    "def intersects(nums1,nums2):\n",
    "    n_nums1 = len(nums1)\n",
    "    intsc = []\n",
    "    for num in num2:\n",
    "        print(binarysearch(nums1,0,n_nums1,num))\n",
    "        intsc.append(binarysearch(nums1,0,n_nums1,num))\n",
    "    return intsc\n",
    "    \n",
    "            "
   ]
  },
  {
   "cell_type": "code",
   "execution_count": 80,
   "metadata": {},
   "outputs": [],
   "source": [
    "# two pointers - sorted array\n",
    "def intersects(arr1, arr2): \n",
    "    i,j = 0,0\n",
    "    m = len(arr1)\n",
    "    n = len(arr2)\n",
    "    insct = []\n",
    "    while i < m and j < n: \n",
    "        if arr1[i] < arr2[j]: \n",
    "            i += 1\n",
    "        elif arr2[j] < arr1[i]: \n",
    "            j+= 1\n",
    "        else: \n",
    "            insct.append(arr2[j]) \n",
    "            j += 1\n",
    "            i += 1\n",
    "    return insct"
   ]
  },
  {
   "cell_type": "code",
   "execution_count": 82,
   "metadata": {},
   "outputs": [
    {
     "data": {
      "text/plain": [
       "[2, 2, 4]"
      ]
     },
     "execution_count": 82,
     "metadata": {},
     "output_type": "execute_result"
    }
   ],
   "source": [
    "intersects([1,2,2,4],[2,2,3,4])"
   ]
  },
  {
   "cell_type": "code",
   "execution_count": 83,
   "metadata": {},
   "outputs": [],
   "source": [
    "### [387] find first unique character"
   ]
  },
  {
   "cell_type": "code",
   "execution_count": 17,
   "metadata": {},
   "outputs": [],
   "source": [
    "# 68ms\n",
    "import collections\n",
    "def firstUniqChar(s):\n",
    "    uni_char = [s.index(k) for k,v in collections.Counter(s).items() if v==1]\n",
    "    if bool(uni_char):\n",
    "        return min(uni_char)\n",
    "    else:\n",
    "        return -1"
   ]
  },
  {
   "cell_type": "code",
   "execution_count": 53,
   "metadata": {},
   "outputs": [],
   "source": [
    "# time consuming\n",
    "def firstUniqChar(s):\n",
    "    for char in s:\n",
    "        if s.count(char)==1:\n",
    "            return s.index(char)\n",
    "    return -1"
   ]
  },
  {
   "cell_type": "code",
   "execution_count": 79,
   "metadata": {},
   "outputs": [],
   "source": [
    "# others's solution\n",
    "def firstUniqChar(s):\n",
    "    if len(s) ==0 : return -1\n",
    "    min_index = len(s)\n",
    "    for c in \"abcdefghijklmnopqrstuvwxyz\":\n",
    "        cur_index = s.find(c) # find the first index\n",
    "        if cur_index != -1 and cur_index==s.rfind(c):\n",
    "            # 1. cur_index !=1 means this char exists in s\n",
    "            # 2. s.find(c) == s.rfind(c) means it only exists once\n",
    "            min_index = min(min_index,cur_index) # update min_index each round\n",
    "    return min_index if min_index !=len(s) else -1"
   ]
  },
  {
   "cell_type": "markdown",
   "metadata": {},
   "source": [
    "### rfind()\n",
    "The method rfind() returns the last index where the substring str is found, or -1 if no such index exists, optionally restricting the search to string[beg:end]."
   ]
  },
  {
   "cell_type": "code",
   "execution_count": 49,
   "metadata": {},
   "outputs": [],
   "source": [
    "### [409] Find Anagrams"
   ]
  },
  {
   "cell_type": "code",
   "execution_count": 51,
   "metadata": {},
   "outputs": [],
   "source": [
    "### Time excessed\n",
    "def findAnagrams(s,p):\n",
    "    p_len = len(p)\n",
    "    s_len = len(s)\n",
    "    if set(p)==set(s) and p_len==s_len==1: return\n",
    "    if p_len==1:\n",
    "        return [i for i,char in enumerate(s) if char==p]\n",
    "    for i in range(0,s_len-p_len+1):\n",
    "        if sorted(s[i:i+p_len]) ==sorted(p):\n",
    "# sorted takes more time\n",
    "# should use hashtable to count\n",
    "            index_list.append(i)\n",
    "    return index_list"
   ]
  },
  {
   "cell_type": "code",
   "execution_count": 9,
   "metadata": {},
   "outputs": [],
   "source": [
    "from collections import Counter\n",
    "def findAnagrams(s,p):\n",
    "    if len(s)==0 or len(p)==0 or len(s)<len(p):return []\n",
    "    s_len=len(s)\n",
    "    p_len = len(p)\n",
    "    Pdict = Counter(p)\n",
    "    rs =[]\n",
    "    for i in range(0,len(s)-len(p)+1):\n",
    "        for i in range(0,s_len-p_len+1):\n",
    "            if Counter(s[i:i+p_len]) == Counter(p):\n",
    "                rs.append(i)\n",
    "    return list(set(rs))  "
   ]
  },
  {
   "cell_type": "code",
   "execution_count": 104,
   "metadata": {},
   "outputs": [],
   "source": [
    "### solution using sliding window and collections\n",
    "### when order doesn't matter, the best way is convert window to dict\n",
    "from collections import Counter\n",
    "def findAnagrams(s,p):\n",
    "    if len(s)==0 or len(p)==0 or len(s)<len(p):return []\n",
    "    Pdict = Counter(p)\n",
    "    Sdict= Counter(s[:len(p)-1]) # set up very first sildes\n",
    "    rs=[]\n",
    "    for endindex in range(len(p)-1,len(s)):\n",
    "        # change by move the end index\n",
    "        startindex = endindex-len(p)+1\n",
    "        # update Sdict with the new letter we added each time\n",
    "        AddNewLetter =s[endindex]\n",
    "        StartLetter = s[startindex]\n",
    "        Sdict[AddNewLetter]+=1\n",
    "        if Pdict == Sdict:\n",
    "            rs.append(startindex)\n",
    "        # after storing the index, then remove the very first one to perpare for the next new dict\n",
    "        Sdict[StartLetter] -=1\n",
    "        if Sdict[StartLetter] ==0:\n",
    "            del Sdict[StartLetter]\n",
    "    return rs"
   ]
  },
  {
   "cell_type": "code",
   "execution_count": 45,
   "metadata": {},
   "outputs": [],
   "source": [
    "## Optimal way to do this \n",
    "def findAnagrams(s,p):\n",
    "    if len(s)==0 or len(p)==0 or len(s)<len(p):return []\n",
    "    pv = [0]*26\n",
    "    wv = [0]*26\n",
    "    # p- pattern w - word s-sentence\n",
    "    # p and w have same length\n",
    "\n",
    "    for char in p:\n",
    "        pv[ord(char)-97]+=1\n",
    "    # since ord() from a to z is from 97 to 122.\n",
    "    # so we actually use ord(char)-97 as new dict keys\n",
    "    # each time a char appear, we save 1 to it\n",
    "\n",
    "    ns = len(s) # num. char for senetence\n",
    "    nw = len(p) # num. char for word\n",
    "    # set the very beginning same length part to dict\n",
    "    # it's the same to Sdict= Counter(s[:len(p)-1])\n",
    "    for char in s[0:np]:\n",
    "        wv[ord(char)-97]+=1\n",
    "\n",
    "    res = []\n",
    "    for i in range(ns-nw+1):\n",
    "        if pv==wv:\n",
    "            res.append(i)\n",
    "        wv[ord(s[i])-97]-=1 # remove the first letter of the window\n",
    "        if i+nw<ns: # windown still remain\n",
    "            wv[ord(s[i+nw])-97]+=1 # put the lastest char into it\n",
    "    return res"
   ]
  },
  {
   "cell_type": "code",
   "execution_count": 46,
   "metadata": {},
   "outputs": [],
   "source": [
    "s=\"cbaebabacd\"\n",
    "p=\"abc\""
   ]
  },
  {
   "cell_type": "code",
   "execution_count": 48,
   "metadata": {},
   "outputs": [
    {
     "data": {
      "text/plain": [
       "[0, 6]"
      ]
     },
     "execution_count": 48,
     "metadata": {},
     "output_type": "execute_result"
    }
   ],
   "source": [
    "findAnagrams(s,p)"
   ]
  },
  {
   "cell_type": "code",
   "execution_count": 28,
   "metadata": {},
   "outputs": [],
   "source": [
    "### [447] Number of Boomeranges"
   ]
  },
  {
   "cell_type": "code",
   "execution_count": 52,
   "metadata": {},
   "outputs": [],
   "source": [
    "# dict the distance as key\n",
    "def numberOfBoomeranges(points):\n",
    "    # for each pos does this match\n",
    "    for pos in points:\n",
    "        dic = {}\n",
    "        x,y = pos[0],pos[1]\n",
    "        dic[0] = -1 # the distance from oneself should be marked as 0\n",
    "        for sit in points:\n",
    "            d = (sit[0]-x)**2+(sit[1]-y)**2 # divide by 2 is not important any more\n",
    "            # recorde the distance\n",
    "            dic[d]= dic.get(d,0)+1\n",
    "        for i in dic.values():\n",
    "            if i>1:\n",
    "                res +=i*(i-1)\n",
    "\n",
    "    return res"
   ]
  },
  {
   "cell_type": "code",
   "execution_count": null,
   "metadata": {},
   "outputs": [],
   "source": [
    "# another way to do this is try to find midpoint for each pair\n",
    "# but it uses more time, since it requires to search for mid point each time."
   ]
  },
  {
   "cell_type": "code",
   "execution_count": null,
   "metadata": {},
   "outputs": [],
   "source": [
    "### [500] keyboard row"
   ]
  },
  {
   "cell_type": "code",
   "execution_count": 106,
   "metadata": {},
   "outputs": [],
   "source": [
    "def findwords(words):\n",
    "    key_row1=\"qwertyuiop\"\n",
    "    key_row2=\"asdfghjkl\"\n",
    "    key_row3=\"zxcvbnm\"\n",
    "    wd_lst=[]\n",
    "    for word in words:\n",
    "        if all(char in key_row1 for char in word) or all(char in key_row2 for char in word) or all(char in key_row3 for char in word):\n",
    "            wd_lst.append(word)\n",
    "    return wd_lst"
   ]
  },
  {
   "cell_type": "code",
   "execution_count": 118,
   "metadata": {},
   "outputs": [],
   "source": [
    "def findwords(words):\n",
    "    key_row1=\"qwertyuiop\"\n",
    "    key_row2=\"asdfghjkl\"\n",
    "    key_row3=\"zxcvbnm\"\n",
    "    wd_lst=[]\n",
    "    for word in words:\n",
    "        wl = list(set(word))\n",
    "        if all(char in key_row1 for char in wl) or all(char in key_row2 for char in wl) or all(char in key_row3 for char in wl):\n",
    "            wd_lst.append(word)\n",
    "    return wd_lst"
   ]
  },
  {
   "cell_type": "code",
   "execution_count": 14,
   "metadata": {},
   "outputs": [],
   "source": [
    "def findwords(words):\n",
    "    key_row1=\"qwertyuiop\"\n",
    "    key_row2=\"asdfghjkl\"\n",
    "    key_row3=\"zxcvbnm\"\n",
    "    return [word for word in words if (set(word).union(set(key_row1)) == set(key_row1)) \n",
    "     or (set(word).union(set(key_row2)) == set(key_row2)) \n",
    "     or (set(word).union(set(key_row3)) == set(key_row3))]\n",
    "    "
   ]
  },
  {
   "cell_type": "code",
   "execution_count": 15,
   "metadata": {},
   "outputs": [],
   "source": [
    "words=[\"you\",\"ant\",\"as\",\"we\"]"
   ]
  },
  {
   "cell_type": "code",
   "execution_count": 17,
   "metadata": {},
   "outputs": [
    {
     "data": {
      "text/plain": [
       "['you', 'as', 'we']"
      ]
     },
     "execution_count": 17,
     "metadata": {},
     "output_type": "execute_result"
    }
   ],
   "source": [
    "findwords(words)"
   ]
  },
  {
   "cell_type": "markdown",
   "metadata": {},
   "source": [
    "### [575] Distribute candies"
   ]
  },
  {
   "cell_type": "code",
   "execution_count": 1,
   "metadata": {},
   "outputs": [],
   "source": [
    "from collections import Counter\n",
    "def distibuteCandies(candies):\n",
    "    if len(set(candies)) == 1: return 1\n",
    "    #if len(set(candies))*2 == len(candies):return int(len(candies)/2)\n",
    "    num_candy = len(candies)\n",
    "    even_kind = sum([v%2 ==0  for v in Counter(candies).values()])\n",
    "    odds_kind = sum([v & 1 for v in Counter(candies).values()])# got all the kinds that have odds candies\n",
    "    return min(even_kind+odds_kind, int(num_candy/2))"
   ]
  },
  {
   "cell_type": "code",
   "execution_count": 7,
   "metadata": {},
   "outputs": [],
   "source": [
    "def distibuteCandies(candies):\n",
    "    kind = len(set(candies))\n",
    "    even = int(len(candies)/2)\n",
    "    sister = min(kind,even)\n",
    "    return sister"
   ]
  },
  {
   "cell_type": "code",
   "execution_count": 12,
   "metadata": {},
   "outputs": [],
   "source": [
    "candies=[1,1,2,3]"
   ]
  },
  {
   "cell_type": "code",
   "execution_count": 13,
   "metadata": {},
   "outputs": [
    {
     "data": {
      "text/plain": [
       "2"
      ]
     },
     "execution_count": 13,
     "metadata": {},
     "output_type": "execute_result"
    }
   ],
   "source": [
    "distibuteCandies(candies)"
   ]
  },
  {
   "cell_type": "code",
   "execution_count": 14,
   "metadata": {},
   "outputs": [],
   "source": [
    "### [594] longest harmonious subsequence"
   ]
  },
  {
   "cell_type": "code",
   "execution_count": null,
   "metadata": {},
   "outputs": [],
   "source": [
    "from collections import Counter\n",
    "def findLHS(nums):\n",
    "    Counter(nums)"
   ]
  },
  {
   "cell_type": "code",
   "execution_count": 16,
   "metadata": {},
   "outputs": [],
   "source": [
    "nums = [1,3,2,2,5,2,3,7]"
   ]
  },
  {
   "cell_type": "code",
   "execution_count": 18,
   "metadata": {},
   "outputs": [],
   "source": [
    "a = Counter(nums)"
   ]
  },
  {
   "cell_type": "code",
   "execution_count": 25,
   "metadata": {},
   "outputs": [],
   "source": [
    "keys = list(a.keys())"
   ]
  },
  {
   "cell_type": "code",
   "execution_count": 28,
   "metadata": {},
   "outputs": [
    {
     "data": {
      "text/plain": [
       "Counter({1: 1, 2: 3, 3: 2, 5: 1, 7: 1})"
      ]
     },
     "execution_count": 28,
     "metadata": {},
     "output_type": "execute_result"
    }
   ],
   "source": [
    "a"
   ]
  },
  {
   "cell_type": "code",
   "execution_count": null,
   "metadata": {},
   "outputs": [],
   "source": []
  }
 ],
 "metadata": {
  "kernelspec": {
   "display_name": "Python 3",
   "language": "python",
   "name": "python3"
  },
  "language_info": {
   "codemirror_mode": {
    "name": "ipython",
    "version": 3
   },
   "file_extension": ".py",
   "mimetype": "text/x-python",
   "name": "python",
   "nbconvert_exporter": "python",
   "pygments_lexer": "ipython3",
   "version": "3.6.5"
  },
  "projectdetails": {
   "creator_id": "yma16",
   "notebook_id": "cf9acd1a-d29d-4eee-8458-fb4a12590516",
   "project_desc": "",
   "project_id": "0c458e75-d2f8-4836-979f-cd9aefb4d8c3",
   "project_name": "Playground"
  }
 },
 "nbformat": 4,
 "nbformat_minor": 2
}
